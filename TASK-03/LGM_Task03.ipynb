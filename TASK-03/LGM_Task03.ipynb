{
 "cells": [
  {
   "cell_type": "markdown",
   "id": "daac2b3a",
   "metadata": {},
   "source": [
    "## **Lets Grow More- Virtual Internship Programme**\n",
    "**Data Analytics**"
   ]
  },
  {
   "cell_type": "markdown",
   "id": "f4286177",
   "metadata": {},
   "source": [
    "## **TASK-03**"
   ]
  },
  {
   "cell_type": "markdown",
   "id": "393c0dac",
   "metadata": {},
   "source": [
    "## **Image to Pencil Sketch with Python**"
   ]
  },
  {
   "cell_type": "markdown",
   "id": "d23c426b",
   "metadata": {},
   "source": [
    "## **AUTHOR :- Anubhav**"
   ]
  },
  {
   "cell_type": "code",
   "execution_count": 4,
   "id": "24ee743d",
   "metadata": {},
   "outputs": [],
   "source": [
    "#Library for converting an image into a pencil sketch with Python is an OpenCV library\n",
    "import cv2"
   ]
  },
  {
   "cell_type": "code",
   "execution_count": 5,
   "id": "1b13e2f1",
   "metadata": {},
   "outputs": [
    {
     "data": {
      "text/plain": [
       "-1"
      ]
     },
     "execution_count": 5,
     "metadata": {},
     "output_type": "execute_result"
    }
   ],
   "source": [
    "#To display the image at every step we need to use these two commands\n",
    "image = cv2.imread(r'C:\\Users\\anubh\\Downloads\\panda.jpg')\n",
    "cv2.imshow(\"Panda\", image)\n",
    "cv2.waitKey(0)"
   ]
  },
  {
   "cell_type": "code",
   "execution_count": 6,
   "id": "8db73f89",
   "metadata": {},
   "outputs": [
    {
     "data": {
      "text/plain": [
       "-1"
      ]
     },
     "execution_count": 6,
     "metadata": {},
     "output_type": "execute_result"
    }
   ],
   "source": [
    "#We will create a new image by converting the original image to greyscale\n",
    "gray_image = cv2.cvtColor(image, cv2.COLOR_BGR2GRAY)\n",
    "cv2.imshow(\"New Panda\", gray_image)\n",
    "cv2.waitKey(0)"
   ]
  },
  {
   "cell_type": "code",
   "execution_count": 7,
   "id": "94e288b6",
   "metadata": {},
   "outputs": [
    {
     "data": {
      "text/plain": [
       "-1"
      ]
     },
     "execution_count": 7,
     "metadata": {},
     "output_type": "execute_result"
    }
   ],
   "source": [
    "#Next step is to invert the new grayscale image\n",
    "inverted_image = 255 - gray_image\n",
    "cv2.imshow(\"Inverted\", inverted_image)\n",
    "cv2.waitKey()"
   ]
  },
  {
   "cell_type": "code",
   "execution_count": 8,
   "id": "77558fbe",
   "metadata": {},
   "outputs": [],
   "source": [
    "#Now we blur the image by using the Gaussian Function in OpenCV\n",
    "blurred = cv2.GaussianBlur(inverted_image, (21, 21), 0)"
   ]
  },
  {
   "cell_type": "code",
   "execution_count": 9,
   "id": "f38deb58",
   "metadata": {},
   "outputs": [
    {
     "data": {
      "text/plain": [
       "-1"
      ]
     },
     "execution_count": 9,
     "metadata": {},
     "output_type": "execute_result"
    }
   ],
   "source": [
    "#The final step is to invert the blurred image, then we can easily convert the image into a pencil sketch\n",
    "inverted_blurred = 255 - blurred\n",
    "pencil_sketch = cv2.divide(gray_image, inverted_blurred, scale=256.0)\n",
    "cv2.imshow(\"Sketch\", pencil_sketch)\n",
    "cv2.waitKey(0)"
   ]
  },
  {
   "cell_type": "code",
   "execution_count": 10,
   "id": "bf1bb853",
   "metadata": {},
   "outputs": [
    {
     "data": {
      "text/plain": [
       "-1"
      ]
     },
     "execution_count": 10,
     "metadata": {},
     "output_type": "execute_result"
    }
   ],
   "source": [
    "#And finally,we will have a look at both the original image and the pencil sketch\n",
    "cv2.imshow(\"original image\", image)\n",
    "cv2.imshow(\"pencil sketch\", pencil_sketch)\n",
    "cv2.waitKey(0)"
   ]
  },
  {
   "cell_type": "code",
   "execution_count": null,
   "id": "74da5ede",
   "metadata": {},
   "outputs": [],
   "source": []
  }
 ],
 "metadata": {
  "kernelspec": {
   "display_name": "Python 3 (ipykernel)",
   "language": "python",
   "name": "python3"
  },
  "language_info": {
   "codemirror_mode": {
    "name": "ipython",
    "version": 3
   },
   "file_extension": ".py",
   "mimetype": "text/x-python",
   "name": "python",
   "nbconvert_exporter": "python",
   "pygments_lexer": "ipython3",
   "version": "3.9.12"
  }
 },
 "nbformat": 4,
 "nbformat_minor": 5
}
